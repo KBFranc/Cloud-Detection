{
 "cells": [
  {
   "cell_type": "code",
   "execution_count": null,
   "metadata": {},
   "outputs": [],
   "source": [
    "images_path = 'Dataset/train_images'"
   ]
  },
  {
   "cell_type": "code",
   "execution_count": null,
   "metadata": {},
   "outputs": [],
   "source": [
    "import os"
   ]
  },
  {
   "cell_type": "code",
   "execution_count": null,
   "metadata": {},
   "outputs": [],
   "source": [
    "import pandas as pd "
   ]
  },
  {
   "cell_type": "code",
   "execution_count": null,
   "metadata": {},
   "outputs": [],
   "source": [
    "import numpy as np "
   ]
  },
  {
   "cell_type": "code",
   "execution_count": null,
   "metadata": {},
   "outputs": [],
   "source": [
    "import plotly.express as px"
   ]
  },
  {
   "cell_type": "code",
   "execution_count": null,
   "metadata": {},
   "outputs": [],
   "source": [
    "import torch"
   ]
  },
  {
   "cell_type": "code",
   "execution_count": null,
   "metadata": {},
   "outputs": [],
   "source": [
    "import torch.nn as nn"
   ]
  },
  {
   "cell_type": "code",
   "execution_count": null,
   "metadata": {},
   "outputs": [],
   "source": [
    "import torch.optim as optim"
   ]
  },
  {
   "cell_type": "code",
   "execution_count": null,
   "metadata": {},
   "outputs": [],
   "source": [
    "import torch.nn.functional as F"
   ]
  },
  {
   "cell_type": "code",
   "execution_count": null,
   "metadata": {},
   "outputs": [],
   "source": [
    "from torch.utils.data import Dataset, DataLoader"
   ]
  },
  {
   "cell_type": "code",
   "execution_count": null,
   "metadata": {},
   "outputs": [],
   "source": [
    "from torchvision import transforms, models"
   ]
  },
  {
   "cell_type": "code",
   "execution_count": null,
   "metadata": {},
   "outputs": [],
   "source": [
    "from IPython.display import display"
   ]
  },
  {
   "cell_type": "code",
   "execution_count": null,
   "metadata": {},
   "outputs": [],
   "source": [
    "import albumentations as albu"
   ]
  },
  {
   "cell_type": "code",
   "execution_count": null,
   "metadata": {},
   "outputs": [],
   "source": [
    "from PIL import Image"
   ]
  },
  {
   "cell_type": "code",
   "execution_count": null,
   "metadata": {},
   "outputs": [],
   "source": [
    "import matplotlib.pyplot as plt"
   ]
  },
  {
   "cell_type": "code",
   "execution_count": null,
   "metadata": {},
   "outputs": [],
   "source": [
    "from tqdm import tqdm_notebook"
   ]
  },
  {
   "cell_type": "code",
   "execution_count": null,
   "metadata": {},
   "outputs": [],
   "source": [
    "from collections import Counter"
   ]
  },
  {
   "cell_type": "code",
   "execution_count": null,
   "metadata": {},
   "outputs": [],
   "source": [
    "import pdb"
   ]
  },
  {
   "cell_type": "code",
   "execution_count": null,
   "metadata": {},
   "outputs": [],
   "source": [
    "import seaborn as sns"
   ]
  },
  {
   "cell_type": "code",
   "execution_count": null,
   "metadata": {},
   "outputs": [],
   "source": [
    "from skmultilearn.model_selection import iterative_train_test_split"
   ]
  },
  {
   "cell_type": "code",
   "execution_count": null,
   "metadata": {},
   "outputs": [],
   "source": [
    "from skmultilearn.model_selection.measures import get_combination_wise_output_matrix"
   ]
  },
  {
   "cell_type": "code",
   "execution_count": null,
   "metadata": {
    "_cell_guid": "79c7e3d0-c299-4dcb-8224-4455121ee9b0",
    "_uuid": "d629ff2d2480ee46fbb7e2d37f6b5fab8052498a"
   },
   "outputs": [],
   "source": [
    "train_df = pd.read_csv('Dataset/train.csv', nrows=1000)"
   ]
  },
  {
   "cell_type": "code",
   "execution_count": null,
   "metadata": {},
   "outputs": [],
   "source": [
    "display(train_df.head())"
   ]
  },
  {
   "cell_type": "code",
   "execution_count": null,
   "metadata": {},
   "outputs": [],
   "source": [
    "display(train_df.sample(10))"
   ]
  },
  {
   "cell_type": "code",
   "execution_count": null,
   "metadata": {},
   "outputs": [],
   "source": [
    "def split_image_label(x):\n",
    "    res = x.split('_')\n",
    "    return (x, res[0], res[1])"
   ]
  },
  {
   "cell_type": "code",
   "execution_count": null,
   "metadata": {},
   "outputs": [],
   "source": [
    "image_label_pairs = []\n",
    "for row in train_df.iterrows():\n",
    "    image_label_pairs.append(split_image_label(row[1].Image_Label))"
   ]
  },
  {
   "cell_type": "code",
   "execution_count": null,
   "metadata": {},
   "outputs": [],
   "source": [
    "train_df = pd.merge(train_df, \n",
    "                    pd.DataFrame(image_label_pairs, columns=['Image_Label', 'Image', 'Label']), \n",
    "                    on=['Image_Label'])\n",
    "\n",
    "train_df.head()"
   ]
  },
  {
   "cell_type": "code",
   "execution_count": null,
   "metadata": {},
   "outputs": [],
   "source": [
    "train_df.isna().sum()"
   ]
  },
  {
   "cell_type": "code",
   "execution_count": null,
   "metadata": {},
   "outputs": [],
   "source": [
    "train_df['Label'].value_counts()"
   ]
  },
  {
   "cell_type": "code",
   "execution_count": null,
   "metadata": {},
   "outputs": [],
   "source": [
    "px.pie(train_df, values=train_df['Label'].value_counts().values, names=train_df['Label'].value_counts().index)"
   ]
  },
  {
   "cell_type": "code",
   "execution_count": null,
   "metadata": {},
   "outputs": [],
   "source": [
    "px.bar(train_df, y=train_df['Label'].value_counts().values, x=train_df['Label'].value_counts().index)"
   ]
  },
  {
   "cell_type": "code",
   "execution_count": null,
   "metadata": {},
   "outputs": [],
   "source": [
    "train_df['Label'] = train_df['Label'].astype('category')"
   ]
  },
  {
   "cell_type": "code",
   "execution_count": null,
   "metadata": {},
   "outputs": [],
   "source": [
    "train_df['Label_Encoded'] = train_df['Label'].cat.codes\n",
    "\n",
    "display(train_df.head())\n",
    "\n",
    "train_df.to_csv('train_encoded.csv', index=False)\n",
    "\n",
    "train_image_ids = train_df['Image'].unique()"
   ]
  },
  {
   "cell_type": "code",
   "execution_count": null,
   "metadata": {},
   "outputs": [],
   "source": [
    "train_mask_df = train_df.pivot(index='Image', columns='Label', values='EncodedPixels')"
   ]
  },
  {
   "cell_type": "code",
   "execution_count": null,
   "metadata": {},
   "outputs": [],
   "source": [
    "train_mask_df = pd.DataFrame(train_mask_df.to_records()).set_index('Image')"
   ]
  },
  {
   "cell_type": "code",
   "execution_count": null,
   "metadata": {},
   "outputs": [],
   "source": [
    "display(train_mask_df.head(2))"
   ]
  },
  {
   "cell_type": "code",
   "execution_count": null,
   "metadata": {},
   "outputs": [],
   "source": [
    "train_mask_df.to_csv('train_mask.csv', index=True)"
   ]
  },
  {
   "cell_type": "code",
   "execution_count": null,
   "metadata": {},
   "outputs": [],
   "source": [
    "train_label_df = train_mask_df.notnull().reset_index(drop=True).values"
   ]
  },
  {
   "cell_type": "code",
   "execution_count": null,
   "metadata": {},
   "outputs": [],
   "source": [
    "print(train_label_df[:5])"
   ]
  },
  {
   "cell_type": "code",
   "execution_count": null,
   "metadata": {},
   "outputs": [],
   "source": [
    "print(train_mask_df.shape)\n",
    "print(train_label_df.shape)"
   ]
  },
  {
   "cell_type": "code",
   "execution_count": null,
   "metadata": {},
   "outputs": [],
   "source": [
    "X_train, y_train, X_valid, y_valid = iterative_train_test_split(train_mask_df.reset_index().values, train_label_df, test_size = 0.2)"
   ]
  },
  {
   "cell_type": "code",
   "execution_count": null,
   "metadata": {},
   "outputs": [],
   "source": [
    "count_org = Counter(combination for row in get_combination_wise_output_matrix(train_label_df, order=2) for combination in row)"
   ]
  },
  {
   "cell_type": "code",
   "execution_count": null,
   "metadata": {},
   "outputs": [],
   "source": [
    "count_train = Counter(combination for row in get_combination_wise_output_matrix(y_train, order=2) for combination in row)"
   ]
  },
  {
   "cell_type": "code",
   "execution_count": null,
   "metadata": {},
   "outputs": [],
   "source": [
    "count_valid = Counter(combination for row in get_combination_wise_output_matrix(y_valid, order=2) for combination in row)"
   ]
  },
  {
   "cell_type": "code",
   "execution_count": null,
   "metadata": {},
   "outputs": [],
   "source": [
    "columns = train_mask_df.reset_index().columns"
   ]
  },
  {
   "cell_type": "code",
   "execution_count": null,
   "metadata": {},
   "outputs": [],
   "source": [
    "X_train = pd.DataFrame(X_train, columns=columns)"
   ]
  },
  {
   "cell_type": "code",
   "execution_count": null,
   "metadata": {},
   "outputs": [],
   "source": [
    "X_train = X_train.set_index('Image')"
   ]
  },
  {
   "cell_type": "code",
   "execution_count": null,
   "metadata": {},
   "outputs": [],
   "source": [
    "X_valid = pd.DataFrame(X_valid, columns=columns).set_index('Image')"
   ]
  },
  {
   "cell_type": "code",
   "execution_count": null,
   "metadata": {},
   "outputs": [],
   "source": [
    "display(X_train.head(2))"
   ]
  },
  {
   "cell_type": "code",
   "execution_count": null,
   "metadata": {},
   "outputs": [],
   "source": [
    "display(X_valid.head(2))"
   ]
  },
  {
   "cell_type": "code",
   "execution_count": null,
   "metadata": {},
   "outputs": [],
   "source": [
    "pd.DataFrame({'org': Counter(str(combination) for row in get_combination_wise_output_matrix(train_label_df, order=2) for combination in row),\n",
    "              'train': Counter(str(combination) for row in get_combination_wise_output_matrix(y_train, order=2) for combination in row),\n",
    "             'valid': Counter(str(combination) for row in get_combination_wise_output_matrix(y_valid, order=2) for combination in row)\n",
    "                }).plot.bar()"
   ]
  },
  {
   "cell_type": "code",
   "execution_count": null,
   "metadata": {},
   "outputs": [],
   "source": [
    "for col in X_train.columns:\n",
    "    print('{:8s}: X_train = {:,}, X_valid = {:,}'.format(col,\n",
    "                                             X_train[col].notnull().sum(),\n",
    "                                             X_valid[col].notnull().sum()))"
   ]
  },
  {
   "cell_type": "code",
   "execution_count": null,
   "metadata": {},
   "outputs": [],
   "source": [
    "class AutoEncoderNet(nn.Module):\n",
    "    def __init__(self, in_channels, down_layer_channels, bottom_channels, up_layer_channels, out_channels=1):\n",
    "        super().__init__()\n",
    "        \n",
    "        self.down_layers = self.init_down_layers(in_channels,\n",
    "                                                down_layer_channels)\n",
    "        \n",
    "        self.bottom_layer = self.init_bottom_layer(in_channels=down_layer_channels[-1],\n",
    "                                                  out_channels=bottom_channels)\n",
    "        \n",
    "        self.up_layers = self.init_up_layers(in_channels=bottom_channels,\n",
    "                                            up_layer_channels=up_layer_channels,\n",
    "                                            down_layer_channels=down_layer_channels)\n",
    "        \n",
    "        self.output_layer = self.init_output_layer(in_channels=up_layer_channels[0],\n",
    "                                                  out_channels=out_channels)\n",
    "        \n",
    "    def init_down_layers(self, in_channels, down_layer_channels):\n",
    "        layers = nn.ModuleList()\n",
    "        \n",
    "        ch_in = in_channels\n",
    "        for ch_out in down_layer_channels:\n",
    "            layers.append(AutoFall(in_channels=ch_in,\n",
    "                                     out_channels=ch_out))\n",
    "            \n",
    "            ch_in = ch_out\n",
    "        \n",
    "        return layers\n",
    "    def init_bottom_layer(self, in_channels, out_channels):\n",
    "        return ResnetBlock(in_channels, out_channels)\n",
    "    \n",
    "    def init_up_layers(self, in_channels, up_layer_channels, down_layer_channels):\n",
    "        layers = nn.ModuleList()\n",
    "        \n",
    "        ch_in = in_channels\n",
    "        for ch_out, ch_middle in zip(reversed(up_layer_channels), reversed(down_layer_channels)):\n",
    "            layers.append(AutoRise(ch_in, ch_middle, out_channels=ch_out))\n",
    "            ch_in = ch_out\n",
    "        \n",
    "        return layers\n",
    "    def init_output_layer(self, in_channels, out_channels, kernel_size=3, padding=1):\n",
    "        \n",
    "        return nn.Sequential(nn.Conv2d(in_channels=in_channels, out_channels=in_channels, kernel_size=kernel_size, padding=padding),\n",
    "                             nn.ReLU(),\n",
    "                             nn.Conv2d(in_channels=in_channels, out_channels=out_channels, kernel_size=kernel_size, padding=padding),\n",
    "                            )\n",
    "    def forward(self, X):\n",
    "        y = X\n",
    "        \n",
    "        y_middles = []\n",
    "        for layer in self.down_layers:\n",
    "            y, y_m = layer(y)\n",
    "            y_middles.append(y_m)\n",
    "            \n",
    "        y = self.bottom_layer(y)\n",
    "        \n",
    "        for index, (layer, y_m) in enumerate(zip(self.up_layers, reversed(y_middles))):\n",
    "            y = layer(y, X_middle=y_m)\n",
    "        \n",
    "        y = self.output_layer(y)\n",
    "        \n",
    "        return y"
   ]
  },
  {
   "cell_type": "code",
   "execution_count": null,
   "metadata": {},
   "outputs": [],
   "source": [
    "class AutoRise(nn.Module):\n",
    "    def __init__(self, in_up_features, in_middle_features, out_channels):\n",
    "        super().__init__()\n",
    "        \n",
    "        self.conv = ResnetBlock(in_channels=(in_up_features+in_middle_features), \n",
    "                                out_channels=out_channels)\n",
    "        \n",
    "    def forward(self, X, X_middle):\n",
    "#         print('X:{}, X_middle:{}'.format(X.shape,\n",
    "#                                         X_middle.shape))\n",
    "              \n",
    "        y = F.interpolate(X, scale_factor=2, mode='bilinear', align_corners=True)\n",
    "        y = torch.cat([y, X_middle], dim=1)\n",
    "        \n",
    "        y = self.conv(y)\n",
    "        \n",
    "        return y"
   ]
  },
  {
   "cell_type": "code",
   "execution_count": null,
   "metadata": {},
   "outputs": [],
   "source": [
    "class AutoFall(nn.Module):\n",
    "    def __init__(self, in_channels, out_channels):\n",
    "        super().__init__()\n",
    "        self.conv = ResnetBlock(in_channels, out_channels)\n",
    "        \n",
    "    def forward(self, X):\n",
    "        y = self.conv(X)\n",
    "        y_middle = y\n",
    "        \n",
    "        y = F.max_pool2d(y, kernel_size=2)\n",
    "        \n",
    "        return y, y_middle"
   ]
  },
  {
   "cell_type": "code",
   "execution_count": null,
   "metadata": {},
   "outputs": [],
   "source": [
    "class ResnetBlock(nn.Module):\n",
    "    def __init__(self, in_channels, out_channels, kernel_size=3, padding=1):\n",
    "        super().__init__()\n",
    "        \n",
    "        self.conv1 = nn.Conv2d(in_channels=in_channels, out_channels=out_channels, kernel_size=kernel_size, padding=padding)\n",
    "        self.conv2 = nn.Conv2d(in_channels=out_channels, out_channels=out_channels, kernel_size=kernel_size, padding=padding)\n",
    "        self.conv3 = nn.Conv2d(in_channels=out_channels, out_channels=out_channels, kernel_size=kernel_size, padding=padding)\n",
    "        \n",
    "    def forward(self, X):\n",
    "        \n",
    "        y = F.relu(self.conv1(X))\n",
    "        y_direct = y\n",
    "        \n",
    "        y = F.relu(self.conv2(y))\n",
    "        y = y_direct + F.relu(self.conv3(y))\n",
    "        return y"
   ]
  },
  {
   "cell_type": "code",
   "execution_count": null,
   "metadata": {},
   "outputs": [],
   "source": [
    "def rle_to_mask(rle_string, width, height):   \n",
    "    rows, cols = height, width\n",
    "    \n",
    "    if rle_string == -1:\n",
    "        return np.zeros((height, width))\n",
    "    else:\n",
    "        rle_numbers = [int(num_string) for num_string in rle_string.split(' ')]\n",
    "        rle_pairs = np.array(rle_numbers).reshape(-1,2)\n",
    "        img = np.zeros(rows*cols, dtype=np.uint8)\n",
    "        for index, length in rle_pairs:\n",
    "            index -= 1\n",
    "            img[index:index+length] = 255\n",
    "        img = img.reshape(cols,rows)\n",
    "        img = img.T\n",
    "        return img"
   ]
  },
  {
   "cell_type": "code",
   "execution_count": null,
   "metadata": {},
   "outputs": [],
   "source": [
    "class ImageDataset(Dataset):\n",
    "    def __init__(self, filenames, root, transform=None, to_tensor=False):\n",
    "        super().__init__()\n",
    "        self.filenames = filenames\n",
    "        self.root = root\n",
    "        self.transform = transform\n",
    "        self.to_tensor = to_tensor\n",
    "        \n",
    "        self.tensor = transforms.ToTensor()\n",
    "        \n",
    "    \n",
    "    def __len__(self):\n",
    "        return len(self.filenames)\n",
    "    \n",
    "    \n",
    "    def __getitem__(self, index):\n",
    "        filename = self.filenames[index]\n",
    "        filename = os.path.join(self.root, filename)\n",
    "        image = np.array(Image.open(filename))\n",
    "        \n",
    "        if self.transform is not None:\n",
    "            image = self.transform(image=image)['image']\n",
    "            \n",
    "        if self.to_tensor is True:\n",
    "            image = self.tensor(image)\n",
    "            \n",
    "        return image"
   ]
  },
  {
   "cell_type": "code",
   "execution_count": null,
   "metadata": {},
   "outputs": [],
   "source": [
    "class MaskDataset(Dataset):\n",
    "    def __init__(self, shape_type, image_ids, mask_df, width, height):\n",
    "        super().__init__()\n",
    "        self.shape_type = shape_type\n",
    "        self.image_ids = image_ids\n",
    "        self.mask_df = mask_df\n",
    "        self.width = width\n",
    "        self.height = height\n",
    "        \n",
    "    def __len__(self):\n",
    "        return len(self.image_ids)\n",
    "    \n",
    "    \n",
    "    def __getitem__(self, index):\n",
    "        image_id = self.image_ids[index]\n",
    "        \n",
    "        rle = self.mask_df.loc[image_id, self.shape_type]\n",
    "        \n",
    "        \n",
    "        if isinstance(rle, str):\n",
    "            mask_image = rle_to_mask(rle, width=self.width, height=self.height)\n",
    "            mask_image = np.expand_dims(mask_image, axis=-1)\n",
    "        else:\n",
    "            mask_image = np.zeros((self.height, self.width, 1))\n",
    "            \n",
    "        return mask_image\n",
    "    \n",
    "    @property\n",
    "    def label(self):\n",
    "        return self.shape_type\n",
    "    \n",
    "    @property\n",
    "    def labels(self):\n",
    "        return self.mask_df.columns.to_list()"
   ]
  },
  {
   "cell_type": "code",
   "execution_count": null,
   "metadata": {},
   "outputs": [],
   "source": [
    "class MultiMaskDataset(Dataset):\n",
    "    def __init__(self, image_ids, mask_df, width, height):\n",
    "        super().__init__()\n",
    "        self.image_ids = image_ids\n",
    "        self.mask_df = mask_df\n",
    "        self.width = width\n",
    "        self.height = height\n",
    "        \n",
    "        \n",
    "    def __len__(self):\n",
    "        return len(self.image_ids)\n",
    "    \n",
    "    \n",
    "    def __getitem__(self, index):\n",
    "        image_id = self.image_ids[index]\n",
    "        \n",
    "        rle_masks = self.mask_df.loc[image_id]\n",
    "        \n",
    "        masks = None\n",
    "        for shape_type, rle in rle_masks.items():\n",
    "#             print(type(rle))\n",
    "            if isinstance(rle, str):\n",
    "                mask_image = rle_to_mask(rle, width=self.width, height=self.height)\n",
    "                mask_image = np.expand_dims(mask_image, axis=-1)\n",
    "            else:\n",
    "                mask_image = np.zeros((self.height, self.width, 1))\n",
    "            \n",
    "            if masks is None:\n",
    "                masks = mask_image\n",
    "            else:\n",
    "                masks = np.concatenate((masks, mask_image), axis=-1)\n",
    "            \n",
    "        return masks\n",
    "    \n",
    "    @property\n",
    "    def labels(self):\n",
    "        return self.mask_df.columns.to_list()\n",
    "    \n",
    "    \n"
   ]
  },
  {
   "cell_type": "code",
   "execution_count": null,
   "metadata": {},
   "outputs": [],
   "source": [
    "class MaskLabelDataset(Dataset):\n",
    "    def __init__(self, image_ids, mask_df, to_tensor=False):\n",
    "        self.image_ids = image_ids\n",
    "        self.mask_df = mask_df\n",
    "        self.to_tensor = to_tensor\n",
    "        \n",
    "    def __getitem__(self, index):\n",
    "        image_id = self.image_ids[index]\n",
    "        rle_masks = self.mask_df.loc[image_id]\n",
    "        \n",
    "        labels = []\n",
    "        for shape_type, rle in rle_masks.items():\n",
    "            if isinstance(rle, str):\n",
    "                labels.append(1)\n",
    "            else:\n",
    "                labels.append(0)\n",
    "        \n",
    "        if self.to_tensor is True:\n",
    "            labels = torch.tensor(labels)\n",
    "            \n",
    "            \n",
    "        return labels\n",
    "    \n",
    "    @property\n",
    "    def labels(self):\n",
    "        return self.mask_df.columns.to_list()"
   ]
  },
  {
   "cell_type": "code",
   "execution_count": null,
   "metadata": {},
   "outputs": [],
   "source": [
    "class ImageMaskDataset(Dataset):\n",
    "    def __init__(self, image_dataset: ImageDataset, \n",
    "                     mask_dataset,\n",
    "                    transform=None,\n",
    "                    to_tensor=True):\n",
    "        \n",
    "        super().__init__()\n",
    "        self.image_dataset = image_dataset\n",
    "        self.mask_dataset = mask_dataset\n",
    "        self.transform = transform\n",
    "        self.to_tensor = to_tensor\n",
    "        self.tensor = transforms.ToTensor()\n",
    "        \n",
    "        \n",
    "    def __len__(self):\n",
    "        return len(self.image_dataset)\n",
    "        \n",
    "    def __getitem__(self, index):\n",
    "        image = self.image_dataset[index]\n",
    "        masks = self.mask_dataset[index]\n",
    "        \n",
    "        if self.transform is not None:\n",
    "            data = {'image': image, 'mask': masks}\n",
    "            \n",
    "            res = self.transform(**data)\n",
    "            \n",
    "            image = res['image']\n",
    "            masks = res['mask']\n",
    "            \n",
    "        if self.to_tensor is True:\n",
    "            image, masks = self.tensor(image), self.tensor(masks)\n",
    "        \n",
    "        return image, masks\n",
    "    \n",
    "    @property\n",
    "    def labels(self):\n",
    "        return self.mask_dataset.labels"
   ]
  },
  {
   "cell_type": "code",
   "execution_count": null,
   "metadata": {},
   "outputs": [],
   "source": [
    "image_dataset = ImageDataset(X_train.index, root=images_path)"
   ]
  },
  {
   "cell_type": "code",
   "execution_count": null,
   "metadata": {},
   "outputs": [],
   "source": [
    "mask_dataset = MultiMaskDataset(X_train.index,\n",
    "                           train_mask_df,\n",
    "                           width=2100,\n",
    "                           height=1400)"
   ]
  },
  {
   "cell_type": "code",
   "execution_count": null,
   "metadata": {},
   "outputs": [],
   "source": [
    "masks = mask_dataset[0]"
   ]
  },
  {
   "cell_type": "code",
   "execution_count": null,
   "metadata": {},
   "outputs": [],
   "source": [
    "transform = albu.Compose([albu.Resize(224, 224, always_apply=True),\n",
    "                         ])\n"
   ]
  },
  {
   "cell_type": "code",
   "execution_count": null,
   "metadata": {},
   "outputs": [],
   "source": [
    "cloud_dataset = ImageMaskDataset(image_dataset, mask_dataset, transform=transform, to_tensor=False)"
   ]
  },
  {
   "cell_type": "code",
   "execution_count": null,
   "metadata": {},
   "outputs": [],
   "source": [
    "image, masks = cloud_dataset[0]"
   ]
  },
  {
   "cell_type": "code",
   "execution_count": null,
   "metadata": {},
   "outputs": [],
   "source": [
    "fig, axes = plt.subplots(1, 5, figsize=(20, 5))\n",
    "axes[0].imshow(image)\n",
    "\n",
    "for index, label in enumerate(cloud_dataset.labels):\n",
    "    mask = masks[:, :, index]\n",
    "    axes[index+1].imshow(mask)\n",
    "    axes[index+1].set_title(label)"
   ]
  },
  {
   "cell_type": "code",
   "execution_count": null,
   "metadata": {},
   "outputs": [],
   "source": [
    "class ImageLabelDataset(Dataset):\n",
    "    def __init__(self, image_dataset: ImageDataset,\n",
    "                        mask_label_dataset: MaskLabelDataset):\n",
    "        super().__init__()\n",
    "        self.image_dataset = image_dataset\n",
    "        self.mask_label_dataset = mask_label_dataset\n",
    "        \n",
    "        \n",
    "    def __len__(self):\n",
    "        return len(self.image_dataset)\n",
    "    \n",
    "    def __getitem__(self, index):\n",
    "        image, label = self.image_dataset[index], self.mask_label_dataset[index]\n",
    "        \n",
    "        return image, label\n",
    "        \n",
    "    "
   ]
  },
  {
   "cell_type": "code",
   "execution_count": null,
   "metadata": {},
   "outputs": [],
   "source": [
    "batch_size = 8\n",
    "\n",
    "device = 'cpu'"
   ]
  },
  {
   "cell_type": "code",
   "execution_count": null,
   "metadata": {},
   "outputs": [],
   "source": [
    "def get_train_dataloader(shape_type, image_ids, train_mask_df, path_root, batch_size, to_tensor=True):\n",
    "    transform = albu.Compose([albu.HorizontalFlip(),\n",
    "                                    albu.OneOf([\n",
    "                                        albu.RandomContrast(),\n",
    "                                        albu.RandomGamma(),\n",
    "                                        albu.RandomBrightness(),\n",
    "                                        ], p=0.3),\n",
    "                                    albu.OneOf([\n",
    "                                        albu.ElasticTransform(alpha=120, sigma=120 * 0.05, alpha_affine=120 * 0.03),\n",
    "                                        albu.GridDistortion(),\n",
    "                                        albu.OpticalDistortion(distort_limit=2, shift_limit=0.5),\n",
    "                                        ], p=0.3),\n",
    "                                    albu.Resize(512, 512, always_apply=True)\n",
    "                                    ])\n",
    "\n",
    "    image_dataset = ImageDataset(image_ids,\n",
    "                                    root=path_root,\n",
    "                                    to_tensor=False)\n",
    "\n",
    "    mask_dataset = MaskDataset(shape_type,\n",
    "                                image_ids,\n",
    "                               train_mask_df,\n",
    "                               width=2100,\n",
    "                               height=1400)\n",
    "    \n",
    "    image_mask_dataset = ImageMaskDataset(image_dataset,\n",
    "                                            mask_dataset,\n",
    "                                            transform=transform,\n",
    "                                            to_tensor=to_tensor)\n",
    "    \n",
    "    loader = DataLoader(dataset=image_mask_dataset,\n",
    "                             batch_size=batch_size,\n",
    "                             shuffle=True,\n",
    "                             num_workers=0,\n",
    "                             pin_memory=True,\n",
    "                             drop_last=True)\n",
    "    \n",
    "    \n",
    "    return loader"
   ]
  },
  {
   "cell_type": "code",
   "execution_count": null,
   "metadata": {},
   "outputs": [],
   "source": [
    "def get_valid_dataloader(shape_type, image_ids, train_mask_df, path_root, batch_size, to_tensor=True):\n",
    "    \n",
    "    transform = albu.Compose([albu.Resize(512, 512, always_apply=True)\n",
    "                                    ])\n",
    "\n",
    "    image_dataset = ImageDataset(image_ids,\n",
    "                                root=path_root,\n",
    "                                to_tensor=False)\n",
    "\n",
    "    mask_dataset = MaskDataset(shape_type,\n",
    "                               image_ids,\n",
    "                               train_mask_df,\n",
    "                               width=2100,\n",
    "                               height=1400)\n",
    "    \n",
    "    image_mask_dataset = ImageMaskDataset(image_dataset,\n",
    "                                        mask_dataset,\n",
    "                                        transform=transform,\n",
    "                                         to_tensor=to_tensor)\n",
    "    \n",
    "    loader = DataLoader(dataset=image_mask_dataset,\n",
    "                             batch_size=batch_size,\n",
    "                             shuffle=False,\n",
    "                             num_workers=0,\n",
    "                             pin_memory=True,\n",
    "                             drop_last=True)\n",
    "    \n",
    "    return loader"
   ]
  },
  {
   "cell_type": "code",
   "execution_count": null,
   "metadata": {},
   "outputs": [],
   "source": [
    "def train_one_epoch(model, dataloader, optimizer, criterion, device):\n",
    "    model.train()\n",
    "    \n",
    "    running_loss = torch.tensor(0.0).to(device)\n",
    "    batch_num = 0\n",
    "    print(dataloader)\n",
    "    for images, masks in dataloader:\n",
    "        \n",
    "        images, masks = images.to(device), masks.to(device, dtype=torch.float)\n",
    "        \n",
    "        y_preds = model(images)\n",
    "        \n",
    "        loss = criterion(y_preds, masks)\n",
    "        \n",
    "        optimizer.zero_grad()\n",
    "        loss.backward()\n",
    "        optimizer.step()\n",
    "        \n",
    "        running_loss += loss.detach()\n",
    "        batch_num += 1\n",
    "    return running_loss.to('cpu').item() / batch_num"
   ]
  },
  {
   "cell_type": "code",
   "execution_count": null,
   "metadata": {},
   "outputs": [],
   "source": [
    "@torch.no_grad()\n",
    "def evaluate(model, dataloader, criterion, device):\n",
    "    model.eval()\n",
    "    \n",
    "    running_loss = torch.tensor(0.0).to(device)\n",
    "    batch_num = 0\n",
    "    \n",
    "    for images, masks in dataloader:\n",
    "        images, masks = images.to(device), masks.to(device)\n",
    "        \n",
    "        y_preds = model(images)\n",
    "        \n",
    "        loss = criterion(y_preds, masks)\n",
    "        \n",
    "        running_loss += loss.detach()\n",
    "        batch_num += 1\n",
    "    return running_loss.to('cpu').item() / batch_num"
   ]
  },
  {
   "cell_type": "code",
   "execution_count": null,
   "metadata": {},
   "outputs": [],
   "source": [
    "model = AutoEncoderNet(in_channels=3,\n",
    "             out_channels=1,\n",
    "             down_layer_channels=[32, 64, 128, 256],\n",
    "             bottom_channels=512,\n",
    "             up_layer_channels=[32, 64, 128, 256])"
   ]
  },
  {
   "cell_type": "code",
   "execution_count": null,
   "metadata": {},
   "outputs": [],
   "source": [
    "epochs = 10"
   ]
  },
  {
   "cell_type": "code",
   "execution_count": null,
   "metadata": {},
   "outputs": [],
   "source": [
    "drop_dict = {}"
   ]
  },
  {
   "cell_type": "code",
   "execution_count": null,
   "metadata": {},
   "outputs": [],
   "source": [
    "for shape_type in train_mask_df.columns:\n",
    "    filename_model = 'model_classifier_{}.pth'.format(shape_type)\n",
    "\n",
    "    model = AutoEncoderNet(in_channels=3,\n",
    "             out_channels=1,\n",
    "             down_layer_channels=[32, 64, 128, 256],\n",
    "             bottom_channels=512,\n",
    "             up_layer_channels=[32, 64, 128, 256])\n",
    "    \n",
    "\n",
    "    optimizer = optim.Adam(model.parameters(), lr=1e-4)\n",
    "    criterion = nn.BCEWithLogitsLoss() # multi-label classification\n",
    "    lr_scheduler = optim.lr_scheduler.ReduceLROnPlateau(optimizer,\n",
    "                                                       patience=3,\n",
    "                                                       mode='min',\n",
    "                                                       verbose=True)\n",
    "\n",
    "    dropping = []\n",
    "    min_loss = 99999.0\n",
    "    model = model.to(device)\n",
    "\n",
    "    image_ids = X_train[X_train[shape_type].notnull()].index\n",
    "    train_loader = get_train_dataloader(shape_type,\n",
    "                                        image_ids, \n",
    "                                        train_mask_df, \n",
    "                                        images_path,\n",
    "                                       batch_size,\n",
    "                                       to_tensor=True)\n",
    "\n",
    "    image_ids = X_valid[X_valid[shape_type].notnull()].index\n",
    "    valid_loader = get_valid_dataloader(shape_type,\n",
    "                                        image_ids, \n",
    "                                        train_mask_df, \n",
    "                                        images_path,\n",
    "                                       batch_size,\n",
    "                                       to_tensor=True)\n",
    "\n",
    "\n",
    "    for i_epoch in tqdm_notebook(range(epochs)):\n",
    "        train_loss = train_one_epoch(model, train_loader, optimizer, criterion, device)\n",
    "        lr_scheduler.step(train_loss)\n",
    "\n",
    "        valid_loss = evaluate(model, valid_loader, criterion, device)\n",
    "\n",
    "        dropping.append((train_loss, valid_loss))\n",
    "\n",
    "        print('Epoch {}: train loss={}, valid loss={}'.format(i_epoch,\n",
    "                                                             train_loss,\n",
    "                                                             valid_loss))\n",
    "\n",
    "\n",
    "        if train_loss < min_loss:\n",
    "            min_loss = train_loss\n",
    "\n",
    "            print('Save model')\n",
    "            torch.save(model.state_dict(), filename_model)\n",
    "        \n",
    "\n",
    "\n",
    "    drop_dict[shape_type] = dropping\n",
    "    \n",
    "    pd.DataFrame(dropping, columns=['train', 'valid']).plot.line()\n"
   ]
  },
  {
   "cell_type": "code",
   "execution_count": null,
   "metadata": {},
   "outputs": [],
   "source": [
    "dfx = pd.DataFrame(dropping, columns=['train', 'valid'])"
   ]
  },
  {
   "cell_type": "code",
   "execution_count": null,
   "metadata": {},
   "outputs": [],
   "source": [
    "fig, axes = plt.subplots(1, 4, figsize=(20, 5))\n",
    "for index, (shape_type, dropping) in enumerate(drop_dict.items()):\n",
    "    ax = axes[index]\n",
    "    ax = dfx.plot.line(ax=ax)\n",
    "    ax.set_title(shape_type)"
   ]
  },
  {
   "cell_type": "code",
   "execution_count": null,
   "metadata": {},
   "outputs": [],
   "source": []
  },
  {
   "cell_type": "code",
   "execution_count": null,
   "metadata": {},
   "outputs": [],
   "source": []
  },
  {
   "cell_type": "code",
   "execution_count": null,
   "metadata": {},
   "outputs": [],
   "source": []
  }
 ],
 "metadata": {
  "kernelspec": {
   "display_name": "Python 3 (ipykernel)",
   "language": "python",
   "name": "python3"
  },
  "language_info": {
   "codemirror_mode": {
    "name": "ipython",
    "version": 3
   },
   "file_extension": ".py",
   "mimetype": "text/x-python",
   "name": "python",
   "nbconvert_exporter": "python",
   "pygments_lexer": "ipython3",
   "version": "3.9.19"
  },
  "widgets": {
   "application/vnd.jupyter.widget-state+json": {
    "state": {
     "0c5590d5b1124dda8b84f4fc829dc122": {
      "model_module": "@jupyter-widgets/controls",
      "model_module_version": "1.5.0",
      "model_name": "HBoxModel",
      "state": {
       "_dom_classes": [],
       "_model_module": "@jupyter-widgets/controls",
       "_model_module_version": "1.5.0",
       "_model_name": "HBoxModel",
       "_view_count": null,
       "_view_module": "@jupyter-widgets/controls",
       "_view_module_version": "1.5.0",
       "_view_name": "HBoxView",
       "box_style": "",
       "children": [
        "IPY_MODEL_d89685f53c394a58965b8a2f654cac55",
        "IPY_MODEL_a8b84e9ba6ca469ca309071d605c9f2b"
       ],
       "layout": "IPY_MODEL_3d7fca6286944a95b0ba79cb9152375e"
      }
     },
     "172bddd9259747868ab0bb4906617cbe": {
      "model_module": "@jupyter-widgets/base",
      "model_module_version": "1.2.0",
      "model_name": "LayoutModel",
      "state": {
       "_model_module": "@jupyter-widgets/base",
       "_model_module_version": "1.2.0",
       "_model_name": "LayoutModel",
       "_view_count": null,
       "_view_module": "@jupyter-widgets/base",
       "_view_module_version": "1.2.0",
       "_view_name": "LayoutView",
       "align_content": null,
       "align_items": null,
       "align_self": null,
       "border": null,
       "bottom": null,
       "display": null,
       "flex": null,
       "flex_flow": null,
       "grid_area": null,
       "grid_auto_columns": null,
       "grid_auto_flow": null,
       "grid_auto_rows": null,
       "grid_column": null,
       "grid_gap": null,
       "grid_row": null,
       "grid_template_areas": null,
       "grid_template_columns": null,
       "grid_template_rows": null,
       "height": null,
       "justify_content": null,
       "justify_items": null,
       "left": null,
       "margin": null,
       "max_height": null,
       "max_width": null,
       "min_height": null,
       "min_width": null,
       "object_fit": null,
       "object_position": null,
       "order": null,
       "overflow": null,
       "overflow_x": null,
       "overflow_y": null,
       "padding": null,
       "right": null,
       "top": null,
       "visibility": null,
       "width": null
      }
     },
     "295e27075ae44b4aa50ca7471f4a0bc7": {
      "model_module": "@jupyter-widgets/controls",
      "model_module_version": "1.5.0",
      "model_name": "IntProgressModel",
      "state": {
       "_dom_classes": [],
       "_model_module": "@jupyter-widgets/controls",
       "_model_module_version": "1.5.0",
       "_model_name": "IntProgressModel",
       "_view_count": null,
       "_view_module": "@jupyter-widgets/controls",
       "_view_module_version": "1.5.0",
       "_view_name": "ProgressView",
       "bar_style": "success",
       "description": "100%",
       "description_tooltip": null,
       "layout": "IPY_MODEL_854ccdf6b54c48908a8f3cda34dce31b",
       "max": 10,
       "min": 0,
       "orientation": "horizontal",
       "style": "IPY_MODEL_7b6e0f22ab84484bbaec7109534b95d2",
       "value": 10
      }
     },
     "36ab7eb7273c48148c3a14d84325afa0": {
      "model_module": "@jupyter-widgets/controls",
      "model_module_version": "1.5.0",
      "model_name": "DescriptionStyleModel",
      "state": {
       "_model_module": "@jupyter-widgets/controls",
       "_model_module_version": "1.5.0",
       "_model_name": "DescriptionStyleModel",
       "_view_count": null,
       "_view_module": "@jupyter-widgets/base",
       "_view_module_version": "1.2.0",
       "_view_name": "StyleView",
       "description_width": ""
      }
     },
     "3d7fca6286944a95b0ba79cb9152375e": {
      "model_module": "@jupyter-widgets/base",
      "model_module_version": "1.2.0",
      "model_name": "LayoutModel",
      "state": {
       "_model_module": "@jupyter-widgets/base",
       "_model_module_version": "1.2.0",
       "_model_name": "LayoutModel",
       "_view_count": null,
       "_view_module": "@jupyter-widgets/base",
       "_view_module_version": "1.2.0",
       "_view_name": "LayoutView",
       "align_content": null,
       "align_items": null,
       "align_self": null,
       "border": null,
       "bottom": null,
       "display": null,
       "flex": null,
       "flex_flow": null,
       "grid_area": null,
       "grid_auto_columns": null,
       "grid_auto_flow": null,
       "grid_auto_rows": null,
       "grid_column": null,
       "grid_gap": null,
       "grid_row": null,
       "grid_template_areas": null,
       "grid_template_columns": null,
       "grid_template_rows": null,
       "height": null,
       "justify_content": null,
       "justify_items": null,
       "left": null,
       "margin": null,
       "max_height": null,
       "max_width": null,
       "min_height": null,
       "min_width": null,
       "object_fit": null,
       "object_position": null,
       "order": null,
       "overflow": null,
       "overflow_x": null,
       "overflow_y": null,
       "padding": null,
       "right": null,
       "top": null,
       "visibility": null,
       "width": null
      }
     },
     "4083fbcba78c4f8dbe9bcab1c8f63d99": {
      "model_module": "@jupyter-widgets/controls",
      "model_module_version": "1.5.0",
      "model_name": "HBoxModel",
      "state": {
       "_dom_classes": [],
       "_model_module": "@jupyter-widgets/controls",
       "_model_module_version": "1.5.0",
       "_model_name": "HBoxModel",
       "_view_count": null,
       "_view_module": "@jupyter-widgets/controls",
       "_view_module_version": "1.5.0",
       "_view_name": "HBoxView",
       "box_style": "",
       "children": [
        "IPY_MODEL_295e27075ae44b4aa50ca7471f4a0bc7",
        "IPY_MODEL_8375039fdcdc4513a834ea3f8186f636"
       ],
       "layout": "IPY_MODEL_de5b600950a14e13b9d6f17757e8392a"
      }
     },
     "41a0d7f0b1cd4387a56541e53d44f5c2": {
      "model_module": "@jupyter-widgets/controls",
      "model_module_version": "1.5.0",
      "model_name": "ProgressStyleModel",
      "state": {
       "_model_module": "@jupyter-widgets/controls",
       "_model_module_version": "1.5.0",
       "_model_name": "ProgressStyleModel",
       "_view_count": null,
       "_view_module": "@jupyter-widgets/base",
       "_view_module_version": "1.2.0",
       "_view_name": "StyleView",
       "bar_color": null,
       "description_width": "initial"
      }
     },
     "43e1ffc4f22d4652a31b8a872a287f47": {
      "model_module": "@jupyter-widgets/base",
      "model_module_version": "1.2.0",
      "model_name": "LayoutModel",
      "state": {
       "_model_module": "@jupyter-widgets/base",
       "_model_module_version": "1.2.0",
       "_model_name": "LayoutModel",
       "_view_count": null,
       "_view_module": "@jupyter-widgets/base",
       "_view_module_version": "1.2.0",
       "_view_name": "LayoutView",
       "align_content": null,
       "align_items": null,
       "align_self": null,
       "border": null,
       "bottom": null,
       "display": null,
       "flex": null,
       "flex_flow": null,
       "grid_area": null,
       "grid_auto_columns": null,
       "grid_auto_flow": null,
       "grid_auto_rows": null,
       "grid_column": null,
       "grid_gap": null,
       "grid_row": null,
       "grid_template_areas": null,
       "grid_template_columns": null,
       "grid_template_rows": null,
       "height": null,
       "justify_content": null,
       "justify_items": null,
       "left": null,
       "margin": null,
       "max_height": null,
       "max_width": null,
       "min_height": null,
       "min_width": null,
       "object_fit": null,
       "object_position": null,
       "order": null,
       "overflow": null,
       "overflow_x": null,
       "overflow_y": null,
       "padding": null,
       "right": null,
       "top": null,
       "visibility": null,
       "width": null
      }
     },
     "47faa5c356f24b548a5720d202a4065e": {
      "model_module": "@jupyter-widgets/base",
      "model_module_version": "1.2.0",
      "model_name": "LayoutModel",
      "state": {
       "_model_module": "@jupyter-widgets/base",
       "_model_module_version": "1.2.0",
       "_model_name": "LayoutModel",
       "_view_count": null,
       "_view_module": "@jupyter-widgets/base",
       "_view_module_version": "1.2.0",
       "_view_name": "LayoutView",
       "align_content": null,
       "align_items": null,
       "align_self": null,
       "border": null,
       "bottom": null,
       "display": null,
       "flex": null,
       "flex_flow": null,
       "grid_area": null,
       "grid_auto_columns": null,
       "grid_auto_flow": null,
       "grid_auto_rows": null,
       "grid_column": null,
       "grid_gap": null,
       "grid_row": null,
       "grid_template_areas": null,
       "grid_template_columns": null,
       "grid_template_rows": null,
       "height": null,
       "justify_content": null,
       "justify_items": null,
       "left": null,
       "margin": null,
       "max_height": null,
       "max_width": null,
       "min_height": null,
       "min_width": null,
       "object_fit": null,
       "object_position": null,
       "order": null,
       "overflow": null,
       "overflow_x": null,
       "overflow_y": null,
       "padding": null,
       "right": null,
       "top": null,
       "visibility": null,
       "width": null
      }
     },
     "4e16fa11b196418797b4f2dcba6c693f": {
      "model_module": "@jupyter-widgets/base",
      "model_module_version": "1.2.0",
      "model_name": "LayoutModel",
      "state": {
       "_model_module": "@jupyter-widgets/base",
       "_model_module_version": "1.2.0",
       "_model_name": "LayoutModel",
       "_view_count": null,
       "_view_module": "@jupyter-widgets/base",
       "_view_module_version": "1.2.0",
       "_view_name": "LayoutView",
       "align_content": null,
       "align_items": null,
       "align_self": null,
       "border": null,
       "bottom": null,
       "display": null,
       "flex": null,
       "flex_flow": null,
       "grid_area": null,
       "grid_auto_columns": null,
       "grid_auto_flow": null,
       "grid_auto_rows": null,
       "grid_column": null,
       "grid_gap": null,
       "grid_row": null,
       "grid_template_areas": null,
       "grid_template_columns": null,
       "grid_template_rows": null,
       "height": null,
       "justify_content": null,
       "justify_items": null,
       "left": null,
       "margin": null,
       "max_height": null,
       "max_width": null,
       "min_height": null,
       "min_width": null,
       "object_fit": null,
       "object_position": null,
       "order": null,
       "overflow": null,
       "overflow_x": null,
       "overflow_y": null,
       "padding": null,
       "right": null,
       "top": null,
       "visibility": null,
       "width": null
      }
     },
     "50963c9a7c5c45aa82cc2423d09ded21": {
      "model_module": "@jupyter-widgets/controls",
      "model_module_version": "1.5.0",
      "model_name": "DescriptionStyleModel",
      "state": {
       "_model_module": "@jupyter-widgets/controls",
       "_model_module_version": "1.5.0",
       "_model_name": "DescriptionStyleModel",
       "_view_count": null,
       "_view_module": "@jupyter-widgets/base",
       "_view_module_version": "1.2.0",
       "_view_name": "StyleView",
       "description_width": ""
      }
     },
     "53fa146371a64205804e7b52f6d98a41": {
      "model_module": "@jupyter-widgets/controls",
      "model_module_version": "1.5.0",
      "model_name": "DescriptionStyleModel",
      "state": {
       "_model_module": "@jupyter-widgets/controls",
       "_model_module_version": "1.5.0",
       "_model_name": "DescriptionStyleModel",
       "_view_count": null,
       "_view_module": "@jupyter-widgets/base",
       "_view_module_version": "1.2.0",
       "_view_name": "StyleView",
       "description_width": ""
      }
     },
     "63a718b826d143d08e84643e4ff4471d": {
      "model_module": "@jupyter-widgets/controls",
      "model_module_version": "1.5.0",
      "model_name": "ProgressStyleModel",
      "state": {
       "_model_module": "@jupyter-widgets/controls",
       "_model_module_version": "1.5.0",
       "_model_name": "ProgressStyleModel",
       "_view_count": null,
       "_view_module": "@jupyter-widgets/base",
       "_view_module_version": "1.2.0",
       "_view_name": "StyleView",
       "bar_color": null,
       "description_width": "initial"
      }
     },
     "71d0c660757d4cab9d6a0b42b0064043": {
      "model_module": "@jupyter-widgets/base",
      "model_module_version": "1.2.0",
      "model_name": "LayoutModel",
      "state": {
       "_model_module": "@jupyter-widgets/base",
       "_model_module_version": "1.2.0",
       "_model_name": "LayoutModel",
       "_view_count": null,
       "_view_module": "@jupyter-widgets/base",
       "_view_module_version": "1.2.0",
       "_view_name": "LayoutView",
       "align_content": null,
       "align_items": null,
       "align_self": null,
       "border": null,
       "bottom": null,
       "display": null,
       "flex": null,
       "flex_flow": null,
       "grid_area": null,
       "grid_auto_columns": null,
       "grid_auto_flow": null,
       "grid_auto_rows": null,
       "grid_column": null,
       "grid_gap": null,
       "grid_row": null,
       "grid_template_areas": null,
       "grid_template_columns": null,
       "grid_template_rows": null,
       "height": null,
       "justify_content": null,
       "justify_items": null,
       "left": null,
       "margin": null,
       "max_height": null,
       "max_width": null,
       "min_height": null,
       "min_width": null,
       "object_fit": null,
       "object_position": null,
       "order": null,
       "overflow": null,
       "overflow_x": null,
       "overflow_y": null,
       "padding": null,
       "right": null,
       "top": null,
       "visibility": null,
       "width": null
      }
     },
     "7a0e552b773146a0b74d4021f0e500a0": {
      "model_module": "@jupyter-widgets/controls",
      "model_module_version": "1.5.0",
      "model_name": "IntProgressModel",
      "state": {
       "_dom_classes": [],
       "_model_module": "@jupyter-widgets/controls",
       "_model_module_version": "1.5.0",
       "_model_name": "IntProgressModel",
       "_view_count": null,
       "_view_module": "@jupyter-widgets/controls",
       "_view_module_version": "1.5.0",
       "_view_name": "ProgressView",
       "bar_style": "success",
       "description": "100%",
       "description_tooltip": null,
       "layout": "IPY_MODEL_172bddd9259747868ab0bb4906617cbe",
       "max": 10,
       "min": 0,
       "orientation": "horizontal",
       "style": "IPY_MODEL_63a718b826d143d08e84643e4ff4471d",
       "value": 10
      }
     },
     "7b6e0f22ab84484bbaec7109534b95d2": {
      "model_module": "@jupyter-widgets/controls",
      "model_module_version": "1.5.0",
      "model_name": "ProgressStyleModel",
      "state": {
       "_model_module": "@jupyter-widgets/controls",
       "_model_module_version": "1.5.0",
       "_model_name": "ProgressStyleModel",
       "_view_count": null,
       "_view_module": "@jupyter-widgets/base",
       "_view_module_version": "1.2.0",
       "_view_name": "StyleView",
       "bar_color": null,
       "description_width": "initial"
      }
     },
     "82ddc7673d8b4b0882c5328f1c268bb8": {
      "model_module": "@jupyter-widgets/controls",
      "model_module_version": "1.5.0",
      "model_name": "HTMLModel",
      "state": {
       "_dom_classes": [],
       "_model_module": "@jupyter-widgets/controls",
       "_model_module_version": "1.5.0",
       "_model_name": "HTMLModel",
       "_view_count": null,
       "_view_module": "@jupyter-widgets/controls",
       "_view_module_version": "1.5.0",
       "_view_name": "HTMLView",
       "description": "",
       "description_tooltip": null,
       "layout": "IPY_MODEL_f591b7af3b68465c985a309bef70c11c",
       "placeholder": "​",
       "style": "IPY_MODEL_36ab7eb7273c48148c3a14d84325afa0",
       "value": " 10/10 [1:32:44&lt;00:00, 556.46s/it]"
      }
     },
     "8375039fdcdc4513a834ea3f8186f636": {
      "model_module": "@jupyter-widgets/controls",
      "model_module_version": "1.5.0",
      "model_name": "HTMLModel",
      "state": {
       "_dom_classes": [],
       "_model_module": "@jupyter-widgets/controls",
       "_model_module_version": "1.5.0",
       "_model_name": "HTMLModel",
       "_view_count": null,
       "_view_module": "@jupyter-widgets/controls",
       "_view_module_version": "1.5.0",
       "_view_name": "HTMLView",
       "description": "",
       "description_tooltip": null,
       "layout": "IPY_MODEL_4e16fa11b196418797b4f2dcba6c693f",
       "placeholder": "​",
       "style": "IPY_MODEL_53fa146371a64205804e7b52f6d98a41",
       "value": " 10/10 [1:13:51&lt;00:00, 443.18s/it]"
      }
     },
     "854ccdf6b54c48908a8f3cda34dce31b": {
      "model_module": "@jupyter-widgets/base",
      "model_module_version": "1.2.0",
      "model_name": "LayoutModel",
      "state": {
       "_model_module": "@jupyter-widgets/base",
       "_model_module_version": "1.2.0",
       "_model_name": "LayoutModel",
       "_view_count": null,
       "_view_module": "@jupyter-widgets/base",
       "_view_module_version": "1.2.0",
       "_view_name": "LayoutView",
       "align_content": null,
       "align_items": null,
       "align_self": null,
       "border": null,
       "bottom": null,
       "display": null,
       "flex": null,
       "flex_flow": null,
       "grid_area": null,
       "grid_auto_columns": null,
       "grid_auto_flow": null,
       "grid_auto_rows": null,
       "grid_column": null,
       "grid_gap": null,
       "grid_row": null,
       "grid_template_areas": null,
       "grid_template_columns": null,
       "grid_template_rows": null,
       "height": null,
       "justify_content": null,
       "justify_items": null,
       "left": null,
       "margin": null,
       "max_height": null,
       "max_width": null,
       "min_height": null,
       "min_width": null,
       "object_fit": null,
       "object_position": null,
       "order": null,
       "overflow": null,
       "overflow_x": null,
       "overflow_y": null,
       "padding": null,
       "right": null,
       "top": null,
       "visibility": null,
       "width": null
      }
     },
     "8f1432a31c284ec2bccc8c3ef6ac9261": {
      "model_module": "@jupyter-widgets/controls",
      "model_module_version": "1.5.0",
      "model_name": "HBoxModel",
      "state": {
       "_dom_classes": [],
       "_model_module": "@jupyter-widgets/controls",
       "_model_module_version": "1.5.0",
       "_model_name": "HBoxModel",
       "_view_count": null,
       "_view_module": "@jupyter-widgets/controls",
       "_view_module_version": "1.5.0",
       "_view_name": "HBoxView",
       "box_style": "",
       "children": [
        "IPY_MODEL_7a0e552b773146a0b74d4021f0e500a0",
        "IPY_MODEL_c9b9f1399cef45c5884cfb454192b298"
       ],
       "layout": "IPY_MODEL_43e1ffc4f22d4652a31b8a872a287f47"
      }
     },
     "91360f6831f143c8933fbba7db527fa3": {
      "model_module": "@jupyter-widgets/controls",
      "model_module_version": "1.5.0",
      "model_name": "HBoxModel",
      "state": {
       "_dom_classes": [],
       "_model_module": "@jupyter-widgets/controls",
       "_model_module_version": "1.5.0",
       "_model_name": "HBoxModel",
       "_view_count": null,
       "_view_module": "@jupyter-widgets/controls",
       "_view_module_version": "1.5.0",
       "_view_name": "HBoxView",
       "box_style": "",
       "children": [
        "IPY_MODEL_e00d6200fd3a41fcb7cbc86f61376631",
        "IPY_MODEL_82ddc7673d8b4b0882c5328f1c268bb8"
       ],
       "layout": "IPY_MODEL_a0bb09b7e0d44ddc9b0f77881ac01a69"
      }
     },
     "a0bb09b7e0d44ddc9b0f77881ac01a69": {
      "model_module": "@jupyter-widgets/base",
      "model_module_version": "1.2.0",
      "model_name": "LayoutModel",
      "state": {
       "_model_module": "@jupyter-widgets/base",
       "_model_module_version": "1.2.0",
       "_model_name": "LayoutModel",
       "_view_count": null,
       "_view_module": "@jupyter-widgets/base",
       "_view_module_version": "1.2.0",
       "_view_name": "LayoutView",
       "align_content": null,
       "align_items": null,
       "align_self": null,
       "border": null,
       "bottom": null,
       "display": null,
       "flex": null,
       "flex_flow": null,
       "grid_area": null,
       "grid_auto_columns": null,
       "grid_auto_flow": null,
       "grid_auto_rows": null,
       "grid_column": null,
       "grid_gap": null,
       "grid_row": null,
       "grid_template_areas": null,
       "grid_template_columns": null,
       "grid_template_rows": null,
       "height": null,
       "justify_content": null,
       "justify_items": null,
       "left": null,
       "margin": null,
       "max_height": null,
       "max_width": null,
       "min_height": null,
       "min_width": null,
       "object_fit": null,
       "object_position": null,
       "order": null,
       "overflow": null,
       "overflow_x": null,
       "overflow_y": null,
       "padding": null,
       "right": null,
       "top": null,
       "visibility": null,
       "width": null
      }
     },
     "a1dcd2cf5f1a44828af8879ee69b1d3d": {
      "model_module": "@jupyter-widgets/controls",
      "model_module_version": "1.5.0",
      "model_name": "DescriptionStyleModel",
      "state": {
       "_model_module": "@jupyter-widgets/controls",
       "_model_module_version": "1.5.0",
       "_model_name": "DescriptionStyleModel",
       "_view_count": null,
       "_view_module": "@jupyter-widgets/base",
       "_view_module_version": "1.2.0",
       "_view_name": "StyleView",
       "description_width": ""
      }
     },
     "a8b84e9ba6ca469ca309071d605c9f2b": {
      "model_module": "@jupyter-widgets/controls",
      "model_module_version": "1.5.0",
      "model_name": "HTMLModel",
      "state": {
       "_dom_classes": [],
       "_model_module": "@jupyter-widgets/controls",
       "_model_module_version": "1.5.0",
       "_model_name": "HTMLModel",
       "_view_count": null,
       "_view_module": "@jupyter-widgets/controls",
       "_view_module_version": "1.5.0",
       "_view_name": "HTMLView",
       "description": "",
       "description_tooltip": null,
       "layout": "IPY_MODEL_af8d5499ca4f43b5afc92898ac19d18e",
       "placeholder": "​",
       "style": "IPY_MODEL_50963c9a7c5c45aa82cc2423d09ded21",
       "value": " 10/10 [1:16:57&lt;00:00, 461.79s/it]"
      }
     },
     "af8d5499ca4f43b5afc92898ac19d18e": {
      "model_module": "@jupyter-widgets/base",
      "model_module_version": "1.2.0",
      "model_name": "LayoutModel",
      "state": {
       "_model_module": "@jupyter-widgets/base",
       "_model_module_version": "1.2.0",
       "_model_name": "LayoutModel",
       "_view_count": null,
       "_view_module": "@jupyter-widgets/base",
       "_view_module_version": "1.2.0",
       "_view_name": "LayoutView",
       "align_content": null,
       "align_items": null,
       "align_self": null,
       "border": null,
       "bottom": null,
       "display": null,
       "flex": null,
       "flex_flow": null,
       "grid_area": null,
       "grid_auto_columns": null,
       "grid_auto_flow": null,
       "grid_auto_rows": null,
       "grid_column": null,
       "grid_gap": null,
       "grid_row": null,
       "grid_template_areas": null,
       "grid_template_columns": null,
       "grid_template_rows": null,
       "height": null,
       "justify_content": null,
       "justify_items": null,
       "left": null,
       "margin": null,
       "max_height": null,
       "max_width": null,
       "min_height": null,
       "min_width": null,
       "object_fit": null,
       "object_position": null,
       "order": null,
       "overflow": null,
       "overflow_x": null,
       "overflow_y": null,
       "padding": null,
       "right": null,
       "top": null,
       "visibility": null,
       "width": null
      }
     },
     "c5f814fabc54438882cc112bdd218d80": {
      "model_module": "@jupyter-widgets/base",
      "model_module_version": "1.2.0",
      "model_name": "LayoutModel",
      "state": {
       "_model_module": "@jupyter-widgets/base",
       "_model_module_version": "1.2.0",
       "_model_name": "LayoutModel",
       "_view_count": null,
       "_view_module": "@jupyter-widgets/base",
       "_view_module_version": "1.2.0",
       "_view_name": "LayoutView",
       "align_content": null,
       "align_items": null,
       "align_self": null,
       "border": null,
       "bottom": null,
       "display": null,
       "flex": null,
       "flex_flow": null,
       "grid_area": null,
       "grid_auto_columns": null,
       "grid_auto_flow": null,
       "grid_auto_rows": null,
       "grid_column": null,
       "grid_gap": null,
       "grid_row": null,
       "grid_template_areas": null,
       "grid_template_columns": null,
       "grid_template_rows": null,
       "height": null,
       "justify_content": null,
       "justify_items": null,
       "left": null,
       "margin": null,
       "max_height": null,
       "max_width": null,
       "min_height": null,
       "min_width": null,
       "object_fit": null,
       "object_position": null,
       "order": null,
       "overflow": null,
       "overflow_x": null,
       "overflow_y": null,
       "padding": null,
       "right": null,
       "top": null,
       "visibility": null,
       "width": null
      }
     },
     "c9b9f1399cef45c5884cfb454192b298": {
      "model_module": "@jupyter-widgets/controls",
      "model_module_version": "1.5.0",
      "model_name": "HTMLModel",
      "state": {
       "_dom_classes": [],
       "_model_module": "@jupyter-widgets/controls",
       "_model_module_version": "1.5.0",
       "_model_name": "HTMLModel",
       "_view_count": null,
       "_view_module": "@jupyter-widgets/controls",
       "_view_module_version": "1.5.0",
       "_view_name": "HTMLView",
       "description": "",
       "description_tooltip": null,
       "layout": "IPY_MODEL_c5f814fabc54438882cc112bdd218d80",
       "placeholder": "​",
       "style": "IPY_MODEL_a1dcd2cf5f1a44828af8879ee69b1d3d",
       "value": " 10/10 [2:16:08&lt;00:00, 816.83s/it]"
      }
     },
     "d89685f53c394a58965b8a2f654cac55": {
      "model_module": "@jupyter-widgets/controls",
      "model_module_version": "1.5.0",
      "model_name": "IntProgressModel",
      "state": {
       "_dom_classes": [],
       "_model_module": "@jupyter-widgets/controls",
       "_model_module_version": "1.5.0",
       "_model_name": "IntProgressModel",
       "_view_count": null,
       "_view_module": "@jupyter-widgets/controls",
       "_view_module_version": "1.5.0",
       "_view_name": "ProgressView",
       "bar_style": "success",
       "description": "100%",
       "description_tooltip": null,
       "layout": "IPY_MODEL_71d0c660757d4cab9d6a0b42b0064043",
       "max": 10,
       "min": 0,
       "orientation": "horizontal",
       "style": "IPY_MODEL_daf5a4ed9e044bcf9540e17c6cf4626f",
       "value": 10
      }
     },
     "daf5a4ed9e044bcf9540e17c6cf4626f": {
      "model_module": "@jupyter-widgets/controls",
      "model_module_version": "1.5.0",
      "model_name": "ProgressStyleModel",
      "state": {
       "_model_module": "@jupyter-widgets/controls",
       "_model_module_version": "1.5.0",
       "_model_name": "ProgressStyleModel",
       "_view_count": null,
       "_view_module": "@jupyter-widgets/base",
       "_view_module_version": "1.2.0",
       "_view_name": "StyleView",
       "bar_color": null,
       "description_width": "initial"
      }
     },
     "de5b600950a14e13b9d6f17757e8392a": {
      "model_module": "@jupyter-widgets/base",
      "model_module_version": "1.2.0",
      "model_name": "LayoutModel",
      "state": {
       "_model_module": "@jupyter-widgets/base",
       "_model_module_version": "1.2.0",
       "_model_name": "LayoutModel",
       "_view_count": null,
       "_view_module": "@jupyter-widgets/base",
       "_view_module_version": "1.2.0",
       "_view_name": "LayoutView",
       "align_content": null,
       "align_items": null,
       "align_self": null,
       "border": null,
       "bottom": null,
       "display": null,
       "flex": null,
       "flex_flow": null,
       "grid_area": null,
       "grid_auto_columns": null,
       "grid_auto_flow": null,
       "grid_auto_rows": null,
       "grid_column": null,
       "grid_gap": null,
       "grid_row": null,
       "grid_template_areas": null,
       "grid_template_columns": null,
       "grid_template_rows": null,
       "height": null,
       "justify_content": null,
       "justify_items": null,
       "left": null,
       "margin": null,
       "max_height": null,
       "max_width": null,
       "min_height": null,
       "min_width": null,
       "object_fit": null,
       "object_position": null,
       "order": null,
       "overflow": null,
       "overflow_x": null,
       "overflow_y": null,
       "padding": null,
       "right": null,
       "top": null,
       "visibility": null,
       "width": null
      }
     },
     "e00d6200fd3a41fcb7cbc86f61376631": {
      "model_module": "@jupyter-widgets/controls",
      "model_module_version": "1.5.0",
      "model_name": "IntProgressModel",
      "state": {
       "_dom_classes": [],
       "_model_module": "@jupyter-widgets/controls",
       "_model_module_version": "1.5.0",
       "_model_name": "IntProgressModel",
       "_view_count": null,
       "_view_module": "@jupyter-widgets/controls",
       "_view_module_version": "1.5.0",
       "_view_name": "ProgressView",
       "bar_style": "success",
       "description": "100%",
       "description_tooltip": null,
       "layout": "IPY_MODEL_47faa5c356f24b548a5720d202a4065e",
       "max": 10,
       "min": 0,
       "orientation": "horizontal",
       "style": "IPY_MODEL_41a0d7f0b1cd4387a56541e53d44f5c2",
       "value": 10
      }
     },
     "f591b7af3b68465c985a309bef70c11c": {
      "model_module": "@jupyter-widgets/base",
      "model_module_version": "1.2.0",
      "model_name": "LayoutModel",
      "state": {
       "_model_module": "@jupyter-widgets/base",
       "_model_module_version": "1.2.0",
       "_model_name": "LayoutModel",
       "_view_count": null,
       "_view_module": "@jupyter-widgets/base",
       "_view_module_version": "1.2.0",
       "_view_name": "LayoutView",
       "align_content": null,
       "align_items": null,
       "align_self": null,
       "border": null,
       "bottom": null,
       "display": null,
       "flex": null,
       "flex_flow": null,
       "grid_area": null,
       "grid_auto_columns": null,
       "grid_auto_flow": null,
       "grid_auto_rows": null,
       "grid_column": null,
       "grid_gap": null,
       "grid_row": null,
       "grid_template_areas": null,
       "grid_template_columns": null,
       "grid_template_rows": null,
       "height": null,
       "justify_content": null,
       "justify_items": null,
       "left": null,
       "margin": null,
       "max_height": null,
       "max_width": null,
       "min_height": null,
       "min_width": null,
       "object_fit": null,
       "object_position": null,
       "order": null,
       "overflow": null,
       "overflow_x": null,
       "overflow_y": null,
       "padding": null,
       "right": null,
       "top": null,
       "visibility": null,
       "width": null
      }
     }
    },
    "version_major": 2,
    "version_minor": 0
   }
  }
 },
 "nbformat": 4,
 "nbformat_minor": 1
}
